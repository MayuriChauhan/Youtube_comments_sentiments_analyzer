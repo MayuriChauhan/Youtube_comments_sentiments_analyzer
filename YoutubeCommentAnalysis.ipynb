{
 "cells": [
  {
   "cell_type": "markdown",
   "metadata": {
    "id": "mvsmjI7vBcGO"
   },
   "source": [
    "**Imports**"
   ]
  },
  {
   "cell_type": "code",
   "execution_count": 1,
   "metadata": {
    "id": "OTebylZVCXTE"
   },
   "outputs": [],
   "source": [
    "# Essentials\n",
    "import numpy as np\n",
    "import pandas as pd \n",
    "import matplotlib.pyplot as plt\n",
    "%matplotlib inline\n",
    "import os\n",
    "import googleapiclient.discovery\n",
    "# Import functions for data preprocessing & data preparation\n",
    "from sklearn.preprocessing import LabelEncoder\n",
    "from sklearn.utils import resample\n",
    "from sklearn.feature_extraction.text import CountVectorizer\n",
    "from nltk.sentiment.vader import SentimentIntensityAnalyzer\n",
    "\n",
    "from nltk.tokenize import word_tokenize\n",
    "from nltk.stem import WordNetLemmatizer\n",
    "from nltk.stem import PorterStemmer, LancasterStemmer\n",
    "from nltk.stem.snowball import SnowballStemmer\n",
    "from nltk.corpus import stopwords\n",
    "from nltk.corpus import wordnet\n",
    "import string\n",
    "from string import punctuation\n",
    "import nltk\n",
    "import re"
   ]
  },
  {
   "cell_type": "code",
   "execution_count": 2,
   "metadata": {
    "colab": {
     "base_uri": "https://localhost:8080/",
     "height": 424
    },
    "id": "BOTpoMyD-rde",
    "outputId": "4474a13e-0cc2-4382-a709-a9434b515112"
   },
   "outputs": [],
   "source": [
    "API_KEY=\"yourapikey\""
   ]
  },
  {
   "cell_type": "code",
   "execution_count": 3,
   "metadata": {},
   "outputs": [],
   "source": [
    "API_SERVICE_NAME = \"youtube\"\n",
    "API_VERSION = \"v3\""
   ]
  },
  {
   "cell_type": "code",
   "execution_count": 4,
   "metadata": {},
   "outputs": [],
   "source": [
    "VIDEO_ID=\"LAOoF2gyQaA\""
   ]
  },
  {
   "cell_type": "code",
   "execution_count": 5,
   "metadata": {},
   "outputs": [],
   "source": [
    "youtube = googleapiclient.discovery.build(\n",
    "    API_SERVICE_NAME, API_VERSION, developerKey = API_KEY)\n",
    "\n",
    "request = youtube.commentThreads().list(\n",
    "    part=\"snippet,replies\",\n",
    "    videoId=VIDEO_ID,\n",
    "    maxResults=100,\n",
    ")\n",
    "response = request.execute()"
   ]
  },
  {
   "cell_type": "code",
   "execution_count": 6,
   "metadata": {},
   "outputs": [
    {
     "data": {
      "text/plain": [
       "'The Roast of Alec Baldwin premieres September 15 on Comedy Central. See who will be roasting Alec here: \\nhttps://www.youtube.com/watch?v=ePp-8vOmmdk'"
      ]
     },
     "execution_count": 6,
     "metadata": {},
     "output_type": "execute_result"
    }
   ],
   "source": [
    "response['items'][0]['snippet']['topLevelComment']['snippet']['textOriginal']"
   ]
  },
  {
   "cell_type": "code",
   "execution_count": 7,
   "metadata": {},
   "outputs": [],
   "source": [
    "df=pd.json_normalize(response['items'])"
   ]
  },
  {
   "cell_type": "code",
   "execution_count": 8,
   "metadata": {},
   "outputs": [
    {
     "data": {
      "text/html": [
       "<div>\n",
       "<style scoped>\n",
       "    .dataframe tbody tr th:only-of-type {\n",
       "        vertical-align: middle;\n",
       "    }\n",
       "\n",
       "    .dataframe tbody tr th {\n",
       "        vertical-align: top;\n",
       "    }\n",
       "\n",
       "    .dataframe thead th {\n",
       "        text-align: right;\n",
       "    }\n",
       "</style>\n",
       "<table border=\"1\" class=\"dataframe\">\n",
       "  <thead>\n",
       "    <tr style=\"text-align: right;\">\n",
       "      <th></th>\n",
       "      <th>kind</th>\n",
       "      <th>etag</th>\n",
       "      <th>id</th>\n",
       "      <th>snippet.channelId</th>\n",
       "      <th>snippet.videoId</th>\n",
       "      <th>snippet.topLevelComment.kind</th>\n",
       "      <th>snippet.topLevelComment.etag</th>\n",
       "      <th>snippet.topLevelComment.id</th>\n",
       "      <th>snippet.topLevelComment.snippet.channelId</th>\n",
       "      <th>snippet.topLevelComment.snippet.videoId</th>\n",
       "      <th>...</th>\n",
       "      <th>snippet.topLevelComment.snippet.authorChannelId.value</th>\n",
       "      <th>snippet.topLevelComment.snippet.canRate</th>\n",
       "      <th>snippet.topLevelComment.snippet.viewerRating</th>\n",
       "      <th>snippet.topLevelComment.snippet.likeCount</th>\n",
       "      <th>snippet.topLevelComment.snippet.publishedAt</th>\n",
       "      <th>snippet.topLevelComment.snippet.updatedAt</th>\n",
       "      <th>snippet.canReply</th>\n",
       "      <th>snippet.totalReplyCount</th>\n",
       "      <th>snippet.isPublic</th>\n",
       "      <th>replies.comments</th>\n",
       "    </tr>\n",
       "  </thead>\n",
       "  <tbody>\n",
       "    <tr>\n",
       "      <th>0</th>\n",
       "      <td>youtube#commentThread</td>\n",
       "      <td>3mBUGIip4cJzBs1R2FJcoAoD_-A</td>\n",
       "      <td>UgyiVIVM7XBnRFfhvr54AaABAg</td>\n",
       "      <td>UCUsN5ZwHx2kILm84-jPDeXw</td>\n",
       "      <td>LAOoF2gyQaA</td>\n",
       "      <td>youtube#comment</td>\n",
       "      <td>vslFAPPvV2pErpmlic8EO_MInuQ</td>\n",
       "      <td>UgyiVIVM7XBnRFfhvr54AaABAg</td>\n",
       "      <td>UCUsN5ZwHx2kILm84-jPDeXw</td>\n",
       "      <td>LAOoF2gyQaA</td>\n",
       "      <td>...</td>\n",
       "      <td>UCUsN5ZwHx2kILm84-jPDeXw</td>\n",
       "      <td>True</td>\n",
       "      <td>none</td>\n",
       "      <td>10393</td>\n",
       "      <td>2019-09-03T18:43:15Z</td>\n",
       "      <td>2019-09-03T18:43:15Z</td>\n",
       "      <td>True</td>\n",
       "      <td>92</td>\n",
       "      <td>True</td>\n",
       "      <td>[{'kind': 'youtube#comment', 'etag': '4J3UO6Ud...</td>\n",
       "    </tr>\n",
       "    <tr>\n",
       "      <th>1</th>\n",
       "      <td>youtube#commentThread</td>\n",
       "      <td>UDsqMzCGORU_qhUh-xVRrI773TU</td>\n",
       "      <td>UgzOzDX1jT_2jCzSkVp4AaABAg</td>\n",
       "      <td>UCUsN5ZwHx2kILm84-jPDeXw</td>\n",
       "      <td>LAOoF2gyQaA</td>\n",
       "      <td>youtube#comment</td>\n",
       "      <td>ItUdfEZO9OQVD37DJBPSoh1WOQ4</td>\n",
       "      <td>UgzOzDX1jT_2jCzSkVp4AaABAg</td>\n",
       "      <td>UCUsN5ZwHx2kILm84-jPDeXw</td>\n",
       "      <td>LAOoF2gyQaA</td>\n",
       "      <td>...</td>\n",
       "      <td>UC61bOqWqm7n713umLk8_6fQ</td>\n",
       "      <td>True</td>\n",
       "      <td>none</td>\n",
       "      <td>0</td>\n",
       "      <td>2023-11-26T14:27:20Z</td>\n",
       "      <td>2023-11-26T14:27:53Z</td>\n",
       "      <td>True</td>\n",
       "      <td>0</td>\n",
       "      <td>True</td>\n",
       "      <td>NaN</td>\n",
       "    </tr>\n",
       "    <tr>\n",
       "      <th>2</th>\n",
       "      <td>youtube#commentThread</td>\n",
       "      <td>KA3N0MGLE3SD711iH19SPWqQmI4</td>\n",
       "      <td>Ugxkt5ag1bZQT4H1Lkd4AaABAg</td>\n",
       "      <td>UCUsN5ZwHx2kILm84-jPDeXw</td>\n",
       "      <td>LAOoF2gyQaA</td>\n",
       "      <td>youtube#comment</td>\n",
       "      <td>dMcc5qXlNuRfWO3kvqhMGZoaJHU</td>\n",
       "      <td>Ugxkt5ag1bZQT4H1Lkd4AaABAg</td>\n",
       "      <td>UCUsN5ZwHx2kILm84-jPDeXw</td>\n",
       "      <td>LAOoF2gyQaA</td>\n",
       "      <td>...</td>\n",
       "      <td>UC9fJlw2kDrpO0K-tnTr96YQ</td>\n",
       "      <td>True</td>\n",
       "      <td>none</td>\n",
       "      <td>0</td>\n",
       "      <td>2023-11-24T02:04:02Z</td>\n",
       "      <td>2023-11-24T02:04:02Z</td>\n",
       "      <td>True</td>\n",
       "      <td>0</td>\n",
       "      <td>True</td>\n",
       "      <td>NaN</td>\n",
       "    </tr>\n",
       "    <tr>\n",
       "      <th>3</th>\n",
       "      <td>youtube#commentThread</td>\n",
       "      <td>hWbSgNujOAquGc2wt685Xv7Ueho</td>\n",
       "      <td>UgxS9faNwb01M7cLvGl4AaABAg</td>\n",
       "      <td>UCUsN5ZwHx2kILm84-jPDeXw</td>\n",
       "      <td>LAOoF2gyQaA</td>\n",
       "      <td>youtube#comment</td>\n",
       "      <td>ZMBw3ZeRC9uAbEGOqBleF1UlVcs</td>\n",
       "      <td>UgxS9faNwb01M7cLvGl4AaABAg</td>\n",
       "      <td>UCUsN5ZwHx2kILm84-jPDeXw</td>\n",
       "      <td>LAOoF2gyQaA</td>\n",
       "      <td>...</td>\n",
       "      <td>UCStbrsZziGZXtvyxvQzMjfQ</td>\n",
       "      <td>True</td>\n",
       "      <td>none</td>\n",
       "      <td>0</td>\n",
       "      <td>2023-11-22T08:43:29Z</td>\n",
       "      <td>2023-11-22T08:43:29Z</td>\n",
       "      <td>True</td>\n",
       "      <td>0</td>\n",
       "      <td>True</td>\n",
       "      <td>NaN</td>\n",
       "    </tr>\n",
       "    <tr>\n",
       "      <th>4</th>\n",
       "      <td>youtube#commentThread</td>\n",
       "      <td>ilfrCMU3RUUDcY9nlvJ63Y-JqmY</td>\n",
       "      <td>UgwWJsvEnp0HNoqezCV4AaABAg</td>\n",
       "      <td>UCUsN5ZwHx2kILm84-jPDeXw</td>\n",
       "      <td>LAOoF2gyQaA</td>\n",
       "      <td>youtube#comment</td>\n",
       "      <td>FuEi4FmXmvory_qNhHIfelcUU7E</td>\n",
       "      <td>UgwWJsvEnp0HNoqezCV4AaABAg</td>\n",
       "      <td>UCUsN5ZwHx2kILm84-jPDeXw</td>\n",
       "      <td>LAOoF2gyQaA</td>\n",
       "      <td>...</td>\n",
       "      <td>UCkBAUYfxGnockoTDMC3l46g</td>\n",
       "      <td>True</td>\n",
       "      <td>none</td>\n",
       "      <td>0</td>\n",
       "      <td>2023-11-20T10:15:29Z</td>\n",
       "      <td>2023-11-20T10:15:29Z</td>\n",
       "      <td>True</td>\n",
       "      <td>0</td>\n",
       "      <td>True</td>\n",
       "      <td>NaN</td>\n",
       "    </tr>\n",
       "  </tbody>\n",
       "</table>\n",
       "<p>5 rows × 25 columns</p>\n",
       "</div>"
      ],
      "text/plain": [
       "                    kind                         etag  \\\n",
       "0  youtube#commentThread  3mBUGIip4cJzBs1R2FJcoAoD_-A   \n",
       "1  youtube#commentThread  UDsqMzCGORU_qhUh-xVRrI773TU   \n",
       "2  youtube#commentThread  KA3N0MGLE3SD711iH19SPWqQmI4   \n",
       "3  youtube#commentThread  hWbSgNujOAquGc2wt685Xv7Ueho   \n",
       "4  youtube#commentThread  ilfrCMU3RUUDcY9nlvJ63Y-JqmY   \n",
       "\n",
       "                           id         snippet.channelId snippet.videoId  \\\n",
       "0  UgyiVIVM7XBnRFfhvr54AaABAg  UCUsN5ZwHx2kILm84-jPDeXw     LAOoF2gyQaA   \n",
       "1  UgzOzDX1jT_2jCzSkVp4AaABAg  UCUsN5ZwHx2kILm84-jPDeXw     LAOoF2gyQaA   \n",
       "2  Ugxkt5ag1bZQT4H1Lkd4AaABAg  UCUsN5ZwHx2kILm84-jPDeXw     LAOoF2gyQaA   \n",
       "3  UgxS9faNwb01M7cLvGl4AaABAg  UCUsN5ZwHx2kILm84-jPDeXw     LAOoF2gyQaA   \n",
       "4  UgwWJsvEnp0HNoqezCV4AaABAg  UCUsN5ZwHx2kILm84-jPDeXw     LAOoF2gyQaA   \n",
       "\n",
       "  snippet.topLevelComment.kind snippet.topLevelComment.etag  \\\n",
       "0              youtube#comment  vslFAPPvV2pErpmlic8EO_MInuQ   \n",
       "1              youtube#comment  ItUdfEZO9OQVD37DJBPSoh1WOQ4   \n",
       "2              youtube#comment  dMcc5qXlNuRfWO3kvqhMGZoaJHU   \n",
       "3              youtube#comment  ZMBw3ZeRC9uAbEGOqBleF1UlVcs   \n",
       "4              youtube#comment  FuEi4FmXmvory_qNhHIfelcUU7E   \n",
       "\n",
       "   snippet.topLevelComment.id snippet.topLevelComment.snippet.channelId  \\\n",
       "0  UgyiVIVM7XBnRFfhvr54AaABAg                  UCUsN5ZwHx2kILm84-jPDeXw   \n",
       "1  UgzOzDX1jT_2jCzSkVp4AaABAg                  UCUsN5ZwHx2kILm84-jPDeXw   \n",
       "2  Ugxkt5ag1bZQT4H1Lkd4AaABAg                  UCUsN5ZwHx2kILm84-jPDeXw   \n",
       "3  UgxS9faNwb01M7cLvGl4AaABAg                  UCUsN5ZwHx2kILm84-jPDeXw   \n",
       "4  UgwWJsvEnp0HNoqezCV4AaABAg                  UCUsN5ZwHx2kILm84-jPDeXw   \n",
       "\n",
       "  snippet.topLevelComment.snippet.videoId  ...  \\\n",
       "0                             LAOoF2gyQaA  ...   \n",
       "1                             LAOoF2gyQaA  ...   \n",
       "2                             LAOoF2gyQaA  ...   \n",
       "3                             LAOoF2gyQaA  ...   \n",
       "4                             LAOoF2gyQaA  ...   \n",
       "\n",
       "  snippet.topLevelComment.snippet.authorChannelId.value  \\\n",
       "0                           UCUsN5ZwHx2kILm84-jPDeXw      \n",
       "1                           UC61bOqWqm7n713umLk8_6fQ      \n",
       "2                           UC9fJlw2kDrpO0K-tnTr96YQ      \n",
       "3                           UCStbrsZziGZXtvyxvQzMjfQ      \n",
       "4                           UCkBAUYfxGnockoTDMC3l46g      \n",
       "\n",
       "  snippet.topLevelComment.snippet.canRate  \\\n",
       "0                                    True   \n",
       "1                                    True   \n",
       "2                                    True   \n",
       "3                                    True   \n",
       "4                                    True   \n",
       "\n",
       "  snippet.topLevelComment.snippet.viewerRating  \\\n",
       "0                                         none   \n",
       "1                                         none   \n",
       "2                                         none   \n",
       "3                                         none   \n",
       "4                                         none   \n",
       "\n",
       "  snippet.topLevelComment.snippet.likeCount  \\\n",
       "0                                     10393   \n",
       "1                                         0   \n",
       "2                                         0   \n",
       "3                                         0   \n",
       "4                                         0   \n",
       "\n",
       "  snippet.topLevelComment.snippet.publishedAt  \\\n",
       "0                        2019-09-03T18:43:15Z   \n",
       "1                        2023-11-26T14:27:20Z   \n",
       "2                        2023-11-24T02:04:02Z   \n",
       "3                        2023-11-22T08:43:29Z   \n",
       "4                        2023-11-20T10:15:29Z   \n",
       "\n",
       "  snippet.topLevelComment.snippet.updatedAt  snippet.canReply  \\\n",
       "0                      2019-09-03T18:43:15Z              True   \n",
       "1                      2023-11-26T14:27:53Z              True   \n",
       "2                      2023-11-24T02:04:02Z              True   \n",
       "3                      2023-11-22T08:43:29Z              True   \n",
       "4                      2023-11-20T10:15:29Z              True   \n",
       "\n",
       "  snippet.totalReplyCount  snippet.isPublic  \\\n",
       "0                      92              True   \n",
       "1                       0              True   \n",
       "2                       0              True   \n",
       "3                       0              True   \n",
       "4                       0              True   \n",
       "\n",
       "                                    replies.comments  \n",
       "0  [{'kind': 'youtube#comment', 'etag': '4J3UO6Ud...  \n",
       "1                                                NaN  \n",
       "2                                                NaN  \n",
       "3                                                NaN  \n",
       "4                                                NaN  \n",
       "\n",
       "[5 rows x 25 columns]"
      ]
     },
     "execution_count": 8,
     "metadata": {},
     "output_type": "execute_result"
    }
   ],
   "source": [
    "df.head()"
   ]
  },
  {
   "cell_type": "code",
   "execution_count": 9,
   "metadata": {},
   "outputs": [
    {
     "data": {
      "text/plain": [
       "Index(['kind', 'etag', 'id', 'channelId', 'videoId', 'kind', 'etag', 'id',\n",
       "       'channelId', 'videoId', 'textDisplay', 'textOriginal',\n",
       "       'authorDisplayName', 'authorProfileImageUrl', 'authorChannelUrl',\n",
       "       'authorChannelId', 'canRate', 'viewerRating', 'likeCount',\n",
       "       'publishedAt', 'updatedAt', 'canReply', 'totalReplyCount', 'isPublic',\n",
       "       'replies.comments'],\n",
       "      dtype='object')"
      ]
     },
     "execution_count": 9,
     "metadata": {},
     "output_type": "execute_result"
    }
   ],
   "source": [
    "df.columns=df.columns.str.removeprefix('snippet.topLevelComment.').str.removeprefix('snippet.').str.removesuffix('.value')\n",
    "df.columns"
   ]
  },
  {
   "cell_type": "code",
   "execution_count": 10,
   "metadata": {},
   "outputs": [],
   "source": [
    "df.to_csv(f'comments-{VIDEO_ID}.csv',index=False)"
   ]
  },
  {
   "cell_type": "code",
   "execution_count": 11,
   "metadata": {},
   "outputs": [],
   "source": [
    "data=pd.read_csv(f'comments-{VIDEO_ID}.csv')"
   ]
  },
  {
   "cell_type": "code",
   "execution_count": 12,
   "metadata": {},
   "outputs": [
    {
     "data": {
      "text/html": [
       "<div>\n",
       "<style scoped>\n",
       "    .dataframe tbody tr th:only-of-type {\n",
       "        vertical-align: middle;\n",
       "    }\n",
       "\n",
       "    .dataframe tbody tr th {\n",
       "        vertical-align: top;\n",
       "    }\n",
       "\n",
       "    .dataframe thead th {\n",
       "        text-align: right;\n",
       "    }\n",
       "</style>\n",
       "<table border=\"1\" class=\"dataframe\">\n",
       "  <thead>\n",
       "    <tr style=\"text-align: right;\">\n",
       "      <th></th>\n",
       "      <th>kind</th>\n",
       "      <th>etag</th>\n",
       "      <th>id</th>\n",
       "      <th>channelId</th>\n",
       "      <th>videoId</th>\n",
       "      <th>kind.1</th>\n",
       "      <th>etag.1</th>\n",
       "      <th>id.1</th>\n",
       "      <th>channelId.1</th>\n",
       "      <th>videoId.1</th>\n",
       "      <th>...</th>\n",
       "      <th>authorChannelId</th>\n",
       "      <th>canRate</th>\n",
       "      <th>viewerRating</th>\n",
       "      <th>likeCount</th>\n",
       "      <th>publishedAt</th>\n",
       "      <th>updatedAt</th>\n",
       "      <th>canReply</th>\n",
       "      <th>totalReplyCount</th>\n",
       "      <th>isPublic</th>\n",
       "      <th>replies.comments</th>\n",
       "    </tr>\n",
       "  </thead>\n",
       "  <tbody>\n",
       "    <tr>\n",
       "      <th>0</th>\n",
       "      <td>youtube#commentThread</td>\n",
       "      <td>3mBUGIip4cJzBs1R2FJcoAoD_-A</td>\n",
       "      <td>UgyiVIVM7XBnRFfhvr54AaABAg</td>\n",
       "      <td>UCUsN5ZwHx2kILm84-jPDeXw</td>\n",
       "      <td>LAOoF2gyQaA</td>\n",
       "      <td>youtube#comment</td>\n",
       "      <td>vslFAPPvV2pErpmlic8EO_MInuQ</td>\n",
       "      <td>UgyiVIVM7XBnRFfhvr54AaABAg</td>\n",
       "      <td>UCUsN5ZwHx2kILm84-jPDeXw</td>\n",
       "      <td>LAOoF2gyQaA</td>\n",
       "      <td>...</td>\n",
       "      <td>UCUsN5ZwHx2kILm84-jPDeXw</td>\n",
       "      <td>True</td>\n",
       "      <td>none</td>\n",
       "      <td>10393</td>\n",
       "      <td>2019-09-03T18:43:15Z</td>\n",
       "      <td>2019-09-03T18:43:15Z</td>\n",
       "      <td>True</td>\n",
       "      <td>92</td>\n",
       "      <td>True</td>\n",
       "      <td>[{'kind': 'youtube#comment', 'etag': '4J3UO6Ud...</td>\n",
       "    </tr>\n",
       "    <tr>\n",
       "      <th>1</th>\n",
       "      <td>youtube#commentThread</td>\n",
       "      <td>UDsqMzCGORU_qhUh-xVRrI773TU</td>\n",
       "      <td>UgzOzDX1jT_2jCzSkVp4AaABAg</td>\n",
       "      <td>UCUsN5ZwHx2kILm84-jPDeXw</td>\n",
       "      <td>LAOoF2gyQaA</td>\n",
       "      <td>youtube#comment</td>\n",
       "      <td>ItUdfEZO9OQVD37DJBPSoh1WOQ4</td>\n",
       "      <td>UgzOzDX1jT_2jCzSkVp4AaABAg</td>\n",
       "      <td>UCUsN5ZwHx2kILm84-jPDeXw</td>\n",
       "      <td>LAOoF2gyQaA</td>\n",
       "      <td>...</td>\n",
       "      <td>UC61bOqWqm7n713umLk8_6fQ</td>\n",
       "      <td>True</td>\n",
       "      <td>none</td>\n",
       "      <td>0</td>\n",
       "      <td>2023-11-26T14:27:20Z</td>\n",
       "      <td>2023-11-26T14:27:53Z</td>\n",
       "      <td>True</td>\n",
       "      <td>0</td>\n",
       "      <td>True</td>\n",
       "      <td>NaN</td>\n",
       "    </tr>\n",
       "    <tr>\n",
       "      <th>2</th>\n",
       "      <td>youtube#commentThread</td>\n",
       "      <td>KA3N0MGLE3SD711iH19SPWqQmI4</td>\n",
       "      <td>Ugxkt5ag1bZQT4H1Lkd4AaABAg</td>\n",
       "      <td>UCUsN5ZwHx2kILm84-jPDeXw</td>\n",
       "      <td>LAOoF2gyQaA</td>\n",
       "      <td>youtube#comment</td>\n",
       "      <td>dMcc5qXlNuRfWO3kvqhMGZoaJHU</td>\n",
       "      <td>Ugxkt5ag1bZQT4H1Lkd4AaABAg</td>\n",
       "      <td>UCUsN5ZwHx2kILm84-jPDeXw</td>\n",
       "      <td>LAOoF2gyQaA</td>\n",
       "      <td>...</td>\n",
       "      <td>UC9fJlw2kDrpO0K-tnTr96YQ</td>\n",
       "      <td>True</td>\n",
       "      <td>none</td>\n",
       "      <td>0</td>\n",
       "      <td>2023-11-24T02:04:02Z</td>\n",
       "      <td>2023-11-24T02:04:02Z</td>\n",
       "      <td>True</td>\n",
       "      <td>0</td>\n",
       "      <td>True</td>\n",
       "      <td>NaN</td>\n",
       "    </tr>\n",
       "    <tr>\n",
       "      <th>3</th>\n",
       "      <td>youtube#commentThread</td>\n",
       "      <td>hWbSgNujOAquGc2wt685Xv7Ueho</td>\n",
       "      <td>UgxS9faNwb01M7cLvGl4AaABAg</td>\n",
       "      <td>UCUsN5ZwHx2kILm84-jPDeXw</td>\n",
       "      <td>LAOoF2gyQaA</td>\n",
       "      <td>youtube#comment</td>\n",
       "      <td>ZMBw3ZeRC9uAbEGOqBleF1UlVcs</td>\n",
       "      <td>UgxS9faNwb01M7cLvGl4AaABAg</td>\n",
       "      <td>UCUsN5ZwHx2kILm84-jPDeXw</td>\n",
       "      <td>LAOoF2gyQaA</td>\n",
       "      <td>...</td>\n",
       "      <td>UCStbrsZziGZXtvyxvQzMjfQ</td>\n",
       "      <td>True</td>\n",
       "      <td>none</td>\n",
       "      <td>0</td>\n",
       "      <td>2023-11-22T08:43:29Z</td>\n",
       "      <td>2023-11-22T08:43:29Z</td>\n",
       "      <td>True</td>\n",
       "      <td>0</td>\n",
       "      <td>True</td>\n",
       "      <td>NaN</td>\n",
       "    </tr>\n",
       "    <tr>\n",
       "      <th>4</th>\n",
       "      <td>youtube#commentThread</td>\n",
       "      <td>ilfrCMU3RUUDcY9nlvJ63Y-JqmY</td>\n",
       "      <td>UgwWJsvEnp0HNoqezCV4AaABAg</td>\n",
       "      <td>UCUsN5ZwHx2kILm84-jPDeXw</td>\n",
       "      <td>LAOoF2gyQaA</td>\n",
       "      <td>youtube#comment</td>\n",
       "      <td>FuEi4FmXmvory_qNhHIfelcUU7E</td>\n",
       "      <td>UgwWJsvEnp0HNoqezCV4AaABAg</td>\n",
       "      <td>UCUsN5ZwHx2kILm84-jPDeXw</td>\n",
       "      <td>LAOoF2gyQaA</td>\n",
       "      <td>...</td>\n",
       "      <td>UCkBAUYfxGnockoTDMC3l46g</td>\n",
       "      <td>True</td>\n",
       "      <td>none</td>\n",
       "      <td>0</td>\n",
       "      <td>2023-11-20T10:15:29Z</td>\n",
       "      <td>2023-11-20T10:15:29Z</td>\n",
       "      <td>True</td>\n",
       "      <td>0</td>\n",
       "      <td>True</td>\n",
       "      <td>NaN</td>\n",
       "    </tr>\n",
       "  </tbody>\n",
       "</table>\n",
       "<p>5 rows × 25 columns</p>\n",
       "</div>"
      ],
      "text/plain": [
       "                    kind                         etag  \\\n",
       "0  youtube#commentThread  3mBUGIip4cJzBs1R2FJcoAoD_-A   \n",
       "1  youtube#commentThread  UDsqMzCGORU_qhUh-xVRrI773TU   \n",
       "2  youtube#commentThread  KA3N0MGLE3SD711iH19SPWqQmI4   \n",
       "3  youtube#commentThread  hWbSgNujOAquGc2wt685Xv7Ueho   \n",
       "4  youtube#commentThread  ilfrCMU3RUUDcY9nlvJ63Y-JqmY   \n",
       "\n",
       "                           id                 channelId      videoId  \\\n",
       "0  UgyiVIVM7XBnRFfhvr54AaABAg  UCUsN5ZwHx2kILm84-jPDeXw  LAOoF2gyQaA   \n",
       "1  UgzOzDX1jT_2jCzSkVp4AaABAg  UCUsN5ZwHx2kILm84-jPDeXw  LAOoF2gyQaA   \n",
       "2  Ugxkt5ag1bZQT4H1Lkd4AaABAg  UCUsN5ZwHx2kILm84-jPDeXw  LAOoF2gyQaA   \n",
       "3  UgxS9faNwb01M7cLvGl4AaABAg  UCUsN5ZwHx2kILm84-jPDeXw  LAOoF2gyQaA   \n",
       "4  UgwWJsvEnp0HNoqezCV4AaABAg  UCUsN5ZwHx2kILm84-jPDeXw  LAOoF2gyQaA   \n",
       "\n",
       "            kind.1                       etag.1                        id.1  \\\n",
       "0  youtube#comment  vslFAPPvV2pErpmlic8EO_MInuQ  UgyiVIVM7XBnRFfhvr54AaABAg   \n",
       "1  youtube#comment  ItUdfEZO9OQVD37DJBPSoh1WOQ4  UgzOzDX1jT_2jCzSkVp4AaABAg   \n",
       "2  youtube#comment  dMcc5qXlNuRfWO3kvqhMGZoaJHU  Ugxkt5ag1bZQT4H1Lkd4AaABAg   \n",
       "3  youtube#comment  ZMBw3ZeRC9uAbEGOqBleF1UlVcs  UgxS9faNwb01M7cLvGl4AaABAg   \n",
       "4  youtube#comment  FuEi4FmXmvory_qNhHIfelcUU7E  UgwWJsvEnp0HNoqezCV4AaABAg   \n",
       "\n",
       "                channelId.1    videoId.1  ...           authorChannelId  \\\n",
       "0  UCUsN5ZwHx2kILm84-jPDeXw  LAOoF2gyQaA  ...  UCUsN5ZwHx2kILm84-jPDeXw   \n",
       "1  UCUsN5ZwHx2kILm84-jPDeXw  LAOoF2gyQaA  ...  UC61bOqWqm7n713umLk8_6fQ   \n",
       "2  UCUsN5ZwHx2kILm84-jPDeXw  LAOoF2gyQaA  ...  UC9fJlw2kDrpO0K-tnTr96YQ   \n",
       "3  UCUsN5ZwHx2kILm84-jPDeXw  LAOoF2gyQaA  ...  UCStbrsZziGZXtvyxvQzMjfQ   \n",
       "4  UCUsN5ZwHx2kILm84-jPDeXw  LAOoF2gyQaA  ...  UCkBAUYfxGnockoTDMC3l46g   \n",
       "\n",
       "  canRate viewerRating likeCount           publishedAt             updatedAt  \\\n",
       "0    True         none     10393  2019-09-03T18:43:15Z  2019-09-03T18:43:15Z   \n",
       "1    True         none         0  2023-11-26T14:27:20Z  2023-11-26T14:27:53Z   \n",
       "2    True         none         0  2023-11-24T02:04:02Z  2023-11-24T02:04:02Z   \n",
       "3    True         none         0  2023-11-22T08:43:29Z  2023-11-22T08:43:29Z   \n",
       "4    True         none         0  2023-11-20T10:15:29Z  2023-11-20T10:15:29Z   \n",
       "\n",
       "   canReply totalReplyCount  isPublic  \\\n",
       "0      True              92      True   \n",
       "1      True               0      True   \n",
       "2      True               0      True   \n",
       "3      True               0      True   \n",
       "4      True               0      True   \n",
       "\n",
       "                                    replies.comments  \n",
       "0  [{'kind': 'youtube#comment', 'etag': '4J3UO6Ud...  \n",
       "1                                                NaN  \n",
       "2                                                NaN  \n",
       "3                                                NaN  \n",
       "4                                                NaN  \n",
       "\n",
       "[5 rows x 25 columns]"
      ]
     },
     "execution_count": 12,
     "metadata": {},
     "output_type": "execute_result"
    }
   ],
   "source": [
    "data.head()"
   ]
  },
  {
   "cell_type": "code",
   "execution_count": 13,
   "metadata": {},
   "outputs": [
    {
     "data": {
      "text/plain": [
       "0     The Roast of Alec Baldwin premieres September ...\n",
       "1     7:00 shaq and kevin laughing at snoop was the ...\n",
       "2     Bieber took it like a champ. They were brutal ...\n",
       "3                                 That Hannibal Guy 😭😭😭\n",
       "4                                     Pete's last line😂\n",
       "                            ...                        \n",
       "95             Lol they need Eminem in this roast thing\n",
       "96    What's happening to Americans I mean 9/11 is a...\n",
       "97    Always back here and enjoy it like the first t...\n",
       "98                                                    😊\n",
       "99                                 king joeffrey of pop\n",
       "Name: textOriginal, Length: 100, dtype: object"
      ]
     },
     "execution_count": 13,
     "metadata": {},
     "output_type": "execute_result"
    }
   ],
   "source": [
    "data['textOriginal']"
   ]
  },
  {
   "cell_type": "code",
   "execution_count": 14,
   "metadata": {},
   "outputs": [
    {
     "data": {
      "text/html": [
       "<div>\n",
       "<style scoped>\n",
       "    .dataframe tbody tr th:only-of-type {\n",
       "        vertical-align: middle;\n",
       "    }\n",
       "\n",
       "    .dataframe tbody tr th {\n",
       "        vertical-align: top;\n",
       "    }\n",
       "\n",
       "    .dataframe thead th {\n",
       "        text-align: right;\n",
       "    }\n",
       "</style>\n",
       "<table border=\"1\" class=\"dataframe\">\n",
       "  <thead>\n",
       "    <tr style=\"text-align: right;\">\n",
       "      <th></th>\n",
       "      <th>textOriginal</th>\n",
       "    </tr>\n",
       "  </thead>\n",
       "  <tbody>\n",
       "    <tr>\n",
       "      <th>0</th>\n",
       "      <td>The Roast of Alec Baldwin premieres September ...</td>\n",
       "    </tr>\n",
       "    <tr>\n",
       "      <th>1</th>\n",
       "      <td>7:00 shaq and kevin laughing at snoop was the ...</td>\n",
       "    </tr>\n",
       "    <tr>\n",
       "      <th>2</th>\n",
       "      <td>Bieber took it like a champ. They were brutal ...</td>\n",
       "    </tr>\n",
       "    <tr>\n",
       "      <th>3</th>\n",
       "      <td>That Hannibal Guy 😭😭😭</td>\n",
       "    </tr>\n",
       "    <tr>\n",
       "      <th>4</th>\n",
       "      <td>Pete's last line😂</td>\n",
       "    </tr>\n",
       "  </tbody>\n",
       "</table>\n",
       "</div>"
      ],
      "text/plain": [
       "                                        textOriginal\n",
       "0  The Roast of Alec Baldwin premieres September ...\n",
       "1  7:00 shaq and kevin laughing at snoop was the ...\n",
       "2  Bieber took it like a champ. They were brutal ...\n",
       "3                              That Hannibal Guy 😭😭😭\n",
       "4                                  Pete's last line😂"
      ]
     },
     "execution_count": 14,
     "metadata": {},
     "output_type": "execute_result"
    }
   ],
   "source": [
    "text_df=data.drop(['kind.1', 'etag.1', 'id.1', 'channelId.1', 'videoId.1', 'kind', 'etag', 'id',\n",
    "       'channelId', 'videoId', 'textDisplay','authorDisplayName', 'authorProfileImageUrl', 'authorChannelUrl',\n",
    "       'authorChannelId', 'canRate', 'viewerRating', 'likeCount',\n",
    "       'publishedAt', 'updatedAt', 'canReply', 'totalReplyCount', 'isPublic','replies.comments'],axis=1)\n",
    "text_df.head()"
   ]
  },
  {
   "cell_type": "code",
   "execution_count": 15,
   "metadata": {},
   "outputs": [
    {
     "name": "stdout",
     "output_type": "stream",
     "text": [
      "The Roast of Alec Baldwin premieres September 15 on Comedy Central. See who will be roasting Alec here: \n",
      "https://www.youtube.com/watch?v=ePp-8vOmmdk \n",
      "\n",
      "7:00 shaq and kevin laughing at snoop was the best😂😂😂 \n",
      "\n",
      "Bieber took it like a champ. They were brutal to him 😅😂 \n",
      "\n",
      "That Hannibal Guy 😭😭😭 \n",
      "\n",
      "Pete's last line😂 \n",
      "\n"
     ]
    }
   ],
   "source": [
    "print(text_df['textOriginal'].iloc[0],\"\\n\")\n",
    "print(text_df['textOriginal'].iloc[1],\"\\n\")\n",
    "print(text_df['textOriginal'].iloc[2],\"\\n\")\n",
    "print(text_df['textOriginal'].iloc[3],\"\\n\")\n",
    "print(text_df['textOriginal'].iloc[4],\"\\n\")"
   ]
  },
  {
   "cell_type": "markdown",
   "metadata": {
    "id": "NVivk0tQBXwY"
   },
   "source": [
    "**Data labelling**"
   ]
  },
  {
   "cell_type": "code",
   "execution_count": 16,
   "metadata": {
    "colab": {
     "base_uri": "https://localhost:8080/",
     "height": 241
    },
    "id": "jKVEjHxw-7aY",
    "outputId": "5963af3a-bbfe-4976-edbe-7f11734c500c"
   },
   "outputs": [
    {
     "name": "stderr",
     "output_type": "stream",
     "text": [
      "[nltk_data] Downloading package vader_lexicon to C:\\Users\\Mayuri\n",
      "[nltk_data]     chauhan\\AppData\\Roaming\\nltk_data...\n",
      "[nltk_data]   Package vader_lexicon is already up-to-date!\n"
     ]
    },
    {
     "data": {
      "text/html": [
       "<div>\n",
       "<style scoped>\n",
       "    .dataframe tbody tr th:only-of-type {\n",
       "        vertical-align: middle;\n",
       "    }\n",
       "\n",
       "    .dataframe tbody tr th {\n",
       "        vertical-align: top;\n",
       "    }\n",
       "\n",
       "    .dataframe thead th {\n",
       "        text-align: right;\n",
       "    }\n",
       "</style>\n",
       "<table border=\"1\" class=\"dataframe\">\n",
       "  <thead>\n",
       "    <tr style=\"text-align: right;\">\n",
       "      <th></th>\n",
       "      <th>textOriginal</th>\n",
       "      <th>Positive</th>\n",
       "      <th>Negative</th>\n",
       "      <th>Neutral</th>\n",
       "      <th>Compound</th>\n",
       "      <th>Sentiment</th>\n",
       "    </tr>\n",
       "  </thead>\n",
       "  <tbody>\n",
       "    <tr>\n",
       "      <th>0</th>\n",
       "      <td>The Roast of Alec Baldwin premieres September ...</td>\n",
       "      <td>0.122</td>\n",
       "      <td>0.000</td>\n",
       "      <td>0.878</td>\n",
       "      <td>0.3612</td>\n",
       "      <td>Positive</td>\n",
       "    </tr>\n",
       "    <tr>\n",
       "      <th>1</th>\n",
       "      <td>7:00 shaq and kevin laughing at snoop was the ...</td>\n",
       "      <td>0.262</td>\n",
       "      <td>0.000</td>\n",
       "      <td>0.738</td>\n",
       "      <td>0.4939</td>\n",
       "      <td>Positive</td>\n",
       "    </tr>\n",
       "    <tr>\n",
       "      <th>2</th>\n",
       "      <td>Bieber took it like a champ. They were brutal ...</td>\n",
       "      <td>0.316</td>\n",
       "      <td>0.232</td>\n",
       "      <td>0.452</td>\n",
       "      <td>0.1280</td>\n",
       "      <td>Positive</td>\n",
       "    </tr>\n",
       "    <tr>\n",
       "      <th>3</th>\n",
       "      <td>That Hannibal Guy 😭😭😭</td>\n",
       "      <td>0.000</td>\n",
       "      <td>0.000</td>\n",
       "      <td>1.000</td>\n",
       "      <td>0.0000</td>\n",
       "      <td>Neutral</td>\n",
       "    </tr>\n",
       "    <tr>\n",
       "      <th>4</th>\n",
       "      <td>Pete's last line😂</td>\n",
       "      <td>0.000</td>\n",
       "      <td>0.000</td>\n",
       "      <td>1.000</td>\n",
       "      <td>0.0000</td>\n",
       "      <td>Neutral</td>\n",
       "    </tr>\n",
       "  </tbody>\n",
       "</table>\n",
       "</div>"
      ],
      "text/plain": [
       "                                        textOriginal  Positive  Negative  \\\n",
       "0  The Roast of Alec Baldwin premieres September ...     0.122     0.000   \n",
       "1  7:00 shaq and kevin laughing at snoop was the ...     0.262     0.000   \n",
       "2  Bieber took it like a champ. They were brutal ...     0.316     0.232   \n",
       "3                              That Hannibal Guy 😭😭😭     0.000     0.000   \n",
       "4                                  Pete's last line😂     0.000     0.000   \n",
       "\n",
       "   Neutral  Compound Sentiment  \n",
       "0    0.878    0.3612  Positive  \n",
       "1    0.738    0.4939  Positive  \n",
       "2    0.452    0.1280  Positive  \n",
       "3    1.000    0.0000   Neutral  \n",
       "4    1.000    0.0000   Neutral  "
      ]
     },
     "execution_count": 16,
     "metadata": {},
     "output_type": "execute_result"
    }
   ],
   "source": [
    "nltk.download('vader_lexicon')\n",
    "sentiments = SentimentIntensityAnalyzer()\n",
    "text_df[\"Positive\"] = [sentiments.polarity_scores(i)[\"pos\"] for i in text_df[\"textOriginal\"]]\n",
    "text_df[\"Negative\"] = [sentiments.polarity_scores(i)[\"neg\"] for i in text_df[\"textOriginal\"]]\n",
    "text_df[\"Neutral\"] = [sentiments.polarity_scores(i)[\"neu\"] for i in text_df[\"textOriginal\"]]\n",
    "text_df['Compound'] = [sentiments.polarity_scores(i)[\"compound\"] for i in text_df[\"textOriginal\"]]\n",
    "score = text_df[\"Compound\"].values\n",
    "sentiment = []\n",
    "for i in score:\n",
    "    if i >= 0.05 :\n",
    "        sentiment.append('Positive')\n",
    "    elif i <= -0.05 :\n",
    "        sentiment.append('Negative')\n",
    "    else:\n",
    "        sentiment.append('Neutral')\n",
    "text_df[\"Sentiment\"] = sentiment\n",
    "text_df.head()"
   ]
  },
  {
   "cell_type": "markdown",
   "metadata": {
    "id": "lu2Tm_dnBglv"
   },
   "source": [
    "**Finaldata**"
   ]
  },
  {
   "cell_type": "code",
   "execution_count": 17,
   "metadata": {
    "colab": {
     "base_uri": "https://localhost:8080/",
     "height": 206
    },
    "id": "478oM-2xAh-l",
    "outputId": "549ea5c0-8e6b-421e-d29e-76cfe7ecbd2f"
   },
   "outputs": [
    {
     "data": {
      "text/html": [
       "<div>\n",
       "<style scoped>\n",
       "    .dataframe tbody tr th:only-of-type {\n",
       "        vertical-align: middle;\n",
       "    }\n",
       "\n",
       "    .dataframe tbody tr th {\n",
       "        vertical-align: top;\n",
       "    }\n",
       "\n",
       "    .dataframe thead th {\n",
       "        text-align: right;\n",
       "    }\n",
       "</style>\n",
       "<table border=\"1\" class=\"dataframe\">\n",
       "  <thead>\n",
       "    <tr style=\"text-align: right;\">\n",
       "      <th></th>\n",
       "      <th>textOriginal</th>\n",
       "      <th>Sentiment</th>\n",
       "    </tr>\n",
       "  </thead>\n",
       "  <tbody>\n",
       "    <tr>\n",
       "      <th>0</th>\n",
       "      <td>The Roast of Alec Baldwin premieres September ...</td>\n",
       "      <td>Positive</td>\n",
       "    </tr>\n",
       "    <tr>\n",
       "      <th>1</th>\n",
       "      <td>7:00 shaq and kevin laughing at snoop was the ...</td>\n",
       "      <td>Positive</td>\n",
       "    </tr>\n",
       "    <tr>\n",
       "      <th>2</th>\n",
       "      <td>Bieber took it like a champ. They were brutal ...</td>\n",
       "      <td>Positive</td>\n",
       "    </tr>\n",
       "    <tr>\n",
       "      <th>3</th>\n",
       "      <td>That Hannibal Guy 😭😭😭</td>\n",
       "      <td>Neutral</td>\n",
       "    </tr>\n",
       "    <tr>\n",
       "      <th>4</th>\n",
       "      <td>Pete's last line😂</td>\n",
       "      <td>Neutral</td>\n",
       "    </tr>\n",
       "  </tbody>\n",
       "</table>\n",
       "</div>"
      ],
      "text/plain": [
       "                                        textOriginal Sentiment\n",
       "0  The Roast of Alec Baldwin premieres September ...  Positive\n",
       "1  7:00 shaq and kevin laughing at snoop was the ...  Positive\n",
       "2  Bieber took it like a champ. They were brutal ...  Positive\n",
       "3                              That Hannibal Guy 😭😭😭   Neutral\n",
       "4                                  Pete's last line😂   Neutral"
      ]
     },
     "execution_count": 17,
     "metadata": {},
     "output_type": "execute_result"
    }
   ],
   "source": [
    "data2=text_df.drop(['Positive','Negative','Neutral','Compound'],axis=1)\n",
    "data2.head()"
   ]
  },
  {
   "cell_type": "code",
   "execution_count": 18,
   "metadata": {
    "id": "73EeZxT_LFoP"
   },
   "outputs": [],
   "source": [
    "stop_words = stopwords.words('english')\n",
    "porter_stemmer = PorterStemmer()\n",
    "lancaster_stemmer = LancasterStemmer() \n",
    "snowball_stemer = SnowballStemmer(language=\"english\")\n",
    "lzr = WordNetLemmatizer()"
   ]
  },
  {
   "cell_type": "code",
   "execution_count": 19,
   "metadata": {
    "id": "zxnQKX1ZUBd2"
   },
   "outputs": [],
   "source": [
    "def text_processing(text):   \n",
    "    # convert text into lowercase\n",
    "    text = text.lower()\n",
    "\n",
    "    # remove new line characters in text\n",
    "    text = re.sub(r'\\n',' ', text)\n",
    "    \n",
    "    # remove punctuations from text\n",
    "    text = re.sub('[%s]' % re.escape(punctuation), \"\", text)\n",
    "    \n",
    "    # remove references and hashtags from text\n",
    "    text = re.sub(\"^a-zA-Z0-9$,.\", \"\", text)\n",
    "    \n",
    "    # remove multiple spaces from text\n",
    "    text = re.sub(r'\\s+', ' ', text, flags=re.I)\n",
    "    \n",
    "    # remove special characters from text\n",
    "    text = re.sub(r'\\W', ' ', text)\n",
    "\n",
    "    text = ' '.join([word for word in word_tokenize(text) if word not in stop_words])\n",
    "    \n",
    "    # stemming using porter stemmer from nltk package - msh a7sn 7aga - momken: lancaster, snowball\n",
    "    # text=' '.join([porter_stemmer.stem(word) for word in word_tokenize(text)])\n",
    "    # text=' '.join([lancaster_stemmer.stem(word) for word in word_tokenize(text)])\n",
    "    # text=' '.join([snowball_stemer.stem(word) for word in word_tokenize(text)])\n",
    "    \n",
    "    # lemmatizer using WordNetLemmatizer from nltk package\n",
    "    text=' '.join([lzr.lemmatize(word) for word in word_tokenize(text)])\n",
    "\n",
    "    return text"
   ]
  },
  {
   "cell_type": "code",
   "execution_count": 20,
   "metadata": {
    "id": "LgN0_BLoULZL"
   },
   "outputs": [],
   "source": [
    "data_copy = data2.copy()\n",
    "data_copy.textOriginal = data_copy.textOriginal.apply(lambda text: text_processing(text))"
   ]
  },
  {
   "cell_type": "code",
   "execution_count": 21,
   "metadata": {
    "id": "gY-jzB6RUPZu"
   },
   "outputs": [],
   "source": [
    "le = LabelEncoder()\n",
    "data_copy['Sentiment'] = le.fit_transform(data_copy['Sentiment'])"
   ]
  },
  {
   "cell_type": "code",
   "execution_count": 22,
   "metadata": {
    "colab": {
     "base_uri": "https://localhost:8080/"
    },
    "id": "zHJUFX1WUY_C",
    "outputId": "02ce4511-1963-4b09-c5dc-c3408a9bcf66",
    "scrolled": true
   },
   "outputs": [
    {
     "data": {
      "text/html": [
       "<div>\n",
       "<style scoped>\n",
       "    .dataframe tbody tr th:only-of-type {\n",
       "        vertical-align: middle;\n",
       "    }\n",
       "\n",
       "    .dataframe tbody tr th {\n",
       "        vertical-align: top;\n",
       "    }\n",
       "\n",
       "    .dataframe thead th {\n",
       "        text-align: right;\n",
       "    }\n",
       "</style>\n",
       "<table border=\"1\" class=\"dataframe\">\n",
       "  <thead>\n",
       "    <tr style=\"text-align: right;\">\n",
       "      <th></th>\n",
       "      <th>Sentence</th>\n",
       "      <th>Sentiment</th>\n",
       "    </tr>\n",
       "  </thead>\n",
       "  <tbody>\n",
       "    <tr>\n",
       "      <th>0</th>\n",
       "      <td>roast alec baldwin premiere september 15 comed...</td>\n",
       "      <td>2</td>\n",
       "    </tr>\n",
       "    <tr>\n",
       "      <th>1</th>\n",
       "      <td>700 shaq kevin laughing snoop best</td>\n",
       "      <td>2</td>\n",
       "    </tr>\n",
       "    <tr>\n",
       "      <th>2</th>\n",
       "      <td>bieber took like champ brutal</td>\n",
       "      <td>2</td>\n",
       "    </tr>\n",
       "    <tr>\n",
       "      <th>3</th>\n",
       "      <td>hannibal guy</td>\n",
       "      <td>1</td>\n",
       "    </tr>\n",
       "    <tr>\n",
       "      <th>4</th>\n",
       "      <td>petes last line</td>\n",
       "      <td>1</td>\n",
       "    </tr>\n",
       "  </tbody>\n",
       "</table>\n",
       "</div>"
      ],
      "text/plain": [
       "                                            Sentence  Sentiment\n",
       "0  roast alec baldwin premiere september 15 comed...          2\n",
       "1                 700 shaq kevin laughing snoop best          2\n",
       "2                      bieber took like champ brutal          2\n",
       "3                                       hannibal guy          1\n",
       "4                                    petes last line          1"
      ]
     },
     "execution_count": 22,
     "metadata": {},
     "output_type": "execute_result"
    }
   ],
   "source": [
    "\n",
    "processed_data = {\n",
    "    'Sentence':data_copy.textOriginal,\n",
    "    'Sentiment':data_copy['Sentiment']\n",
    "}\n",
    "\n",
    "processed_data = pd.DataFrame(processed_data)\n",
    "processed_data.head()"
   ]
  },
  {
   "cell_type": "code",
   "execution_count": 23,
   "metadata": {
    "id": "8K2rb8GgUe_f"
   },
   "outputs": [],
   "source": [
    "df_neutral = processed_data[(processed_data['Sentiment']==1)] \n",
    "df_negative = processed_data[(processed_data['Sentiment']==0)]\n",
    "df_positive = processed_data[(processed_data['Sentiment']==2)]\n",
    "\n",
    "# upsample minority classes\n",
    "df_negative_upsampled = resample(df_negative, \n",
    "                                 replace=True,    \n",
    "                                 n_samples= 205, \n",
    "                                 random_state=42)  \n",
    "\n",
    "df_neutral_upsampled = resample(df_neutral, \n",
    "                                 replace=True,    \n",
    "                                 n_samples= 205, \n",
    "                                 random_state=42)  \n",
    "\n",
    "\n",
    "# Concatenate the upsampled dataframes with the neutral dataframe\n",
    "final_data = pd.concat([df_negative_upsampled,df_neutral_upsampled,df_positive])"
   ]
  },
  {
   "cell_type": "code",
   "execution_count": 24,
   "metadata": {
    "colab": {
     "base_uri": "https://localhost:8080/"
    },
    "id": "EmZOpc2cUrfI",
    "outputId": "af3797c1-134c-4cd6-be2c-736701a58d88"
   },
   "outputs": [
    {
     "data": {
      "text/plain": [
       "Sentiment\n",
       "0    205\n",
       "1    205\n",
       "2     39\n",
       "Name: count, dtype: int64"
      ]
     },
     "execution_count": 24,
     "metadata": {},
     "output_type": "execute_result"
    }
   ],
   "source": [
    "final_data['Sentiment'].value_counts()"
   ]
  },
  {
   "cell_type": "code",
   "execution_count": 25,
   "metadata": {
    "colab": {
     "base_uri": "https://localhost:8080/"
    },
    "id": "jT7hzZV9UuIN",
    "outputId": "5ab31fe9-1435-4665-c54e-e1800c4fc60f"
   },
   "outputs": [
    {
     "data": {
      "text/plain": [
       "['shaquille fact word handsome arabic thats b',\n",
       " 'pete davidson dad joke killed',\n",
       " 'cut hannibal buress part roast youre trash cc',\n",
       " 'prison easier making blueberry scone',\n",
       " 'shaquille fact word handsome arabic thats b']"
      ]
     },
     "execution_count": 25,
     "metadata": {},
     "output_type": "execute_result"
    }
   ],
   "source": [
    "corpus = []\n",
    "for sentence in final_data['Sentence']:\n",
    "    corpus.append(sentence)\n",
    "corpus[0:5]"
   ]
  },
  {
   "cell_type": "code",
   "execution_count": 26,
   "metadata": {
    "id": "92ExqWWeU1wR"
   },
   "outputs": [],
   "source": [
    "from sklearn.feature_extraction.text import CountVectorizer\n",
    "cv = CountVectorizer(max_features=1500)\n",
    "X = cv.fit_transform(corpus).toarray()\n",
    "y = final_data.iloc[:, -1].values"
   ]
  },
  {
   "cell_type": "code",
   "execution_count": 27,
   "metadata": {
    "id": "c1NwCSLnU6FO"
   },
   "outputs": [],
   "source": [
    "from sklearn.model_selection import train_test_split\n",
    "X_train, X_test, y_train, y_test = train_test_split(X, y, test_size=0.3, random_state=0)"
   ]
  },
  {
   "cell_type": "code",
   "execution_count": 28,
   "metadata": {
    "id": "7ieNYue2VAk9"
   },
   "outputs": [],
   "source": [
    "from sklearn.naive_bayes import GaussianNB"
   ]
  },
  {
   "cell_type": "code",
   "execution_count": 29,
   "metadata": {
    "colab": {
     "base_uri": "https://localhost:8080/"
    },
    "id": "c0c66QgDVEJs",
    "outputId": "e53ff90c-f287-44df-9f65-eb6b83712395"
   },
   "outputs": [
    {
     "data": {
      "text/html": [
       "<style>#sk-container-id-1 {color: black;}#sk-container-id-1 pre{padding: 0;}#sk-container-id-1 div.sk-toggleable {background-color: white;}#sk-container-id-1 label.sk-toggleable__label {cursor: pointer;display: block;width: 100%;margin-bottom: 0;padding: 0.3em;box-sizing: border-box;text-align: center;}#sk-container-id-1 label.sk-toggleable__label-arrow:before {content: \"▸\";float: left;margin-right: 0.25em;color: #696969;}#sk-container-id-1 label.sk-toggleable__label-arrow:hover:before {color: black;}#sk-container-id-1 div.sk-estimator:hover label.sk-toggleable__label-arrow:before {color: black;}#sk-container-id-1 div.sk-toggleable__content {max-height: 0;max-width: 0;overflow: hidden;text-align: left;background-color: #f0f8ff;}#sk-container-id-1 div.sk-toggleable__content pre {margin: 0.2em;color: black;border-radius: 0.25em;background-color: #f0f8ff;}#sk-container-id-1 input.sk-toggleable__control:checked~div.sk-toggleable__content {max-height: 200px;max-width: 100%;overflow: auto;}#sk-container-id-1 input.sk-toggleable__control:checked~label.sk-toggleable__label-arrow:before {content: \"▾\";}#sk-container-id-1 div.sk-estimator input.sk-toggleable__control:checked~label.sk-toggleable__label {background-color: #d4ebff;}#sk-container-id-1 div.sk-label input.sk-toggleable__control:checked~label.sk-toggleable__label {background-color: #d4ebff;}#sk-container-id-1 input.sk-hidden--visually {border: 0;clip: rect(1px 1px 1px 1px);clip: rect(1px, 1px, 1px, 1px);height: 1px;margin: -1px;overflow: hidden;padding: 0;position: absolute;width: 1px;}#sk-container-id-1 div.sk-estimator {font-family: monospace;background-color: #f0f8ff;border: 1px dotted black;border-radius: 0.25em;box-sizing: border-box;margin-bottom: 0.5em;}#sk-container-id-1 div.sk-estimator:hover {background-color: #d4ebff;}#sk-container-id-1 div.sk-parallel-item::after {content: \"\";width: 100%;border-bottom: 1px solid gray;flex-grow: 1;}#sk-container-id-1 div.sk-label:hover label.sk-toggleable__label {background-color: #d4ebff;}#sk-container-id-1 div.sk-serial::before {content: \"\";position: absolute;border-left: 1px solid gray;box-sizing: border-box;top: 0;bottom: 0;left: 50%;z-index: 0;}#sk-container-id-1 div.sk-serial {display: flex;flex-direction: column;align-items: center;background-color: white;padding-right: 0.2em;padding-left: 0.2em;position: relative;}#sk-container-id-1 div.sk-item {position: relative;z-index: 1;}#sk-container-id-1 div.sk-parallel {display: flex;align-items: stretch;justify-content: center;background-color: white;position: relative;}#sk-container-id-1 div.sk-item::before, #sk-container-id-1 div.sk-parallel-item::before {content: \"\";position: absolute;border-left: 1px solid gray;box-sizing: border-box;top: 0;bottom: 0;left: 50%;z-index: -1;}#sk-container-id-1 div.sk-parallel-item {display: flex;flex-direction: column;z-index: 1;position: relative;background-color: white;}#sk-container-id-1 div.sk-parallel-item:first-child::after {align-self: flex-end;width: 50%;}#sk-container-id-1 div.sk-parallel-item:last-child::after {align-self: flex-start;width: 50%;}#sk-container-id-1 div.sk-parallel-item:only-child::after {width: 0;}#sk-container-id-1 div.sk-dashed-wrapped {border: 1px dashed gray;margin: 0 0.4em 0.5em 0.4em;box-sizing: border-box;padding-bottom: 0.4em;background-color: white;}#sk-container-id-1 div.sk-label label {font-family: monospace;font-weight: bold;display: inline-block;line-height: 1.2em;}#sk-container-id-1 div.sk-label-container {text-align: center;}#sk-container-id-1 div.sk-container {/* jupyter's `normalize.less` sets `[hidden] { display: none; }` but bootstrap.min.css set `[hidden] { display: none !important; }` so we also need the `!important` here to be able to override the default hidden behavior on the sphinx rendered scikit-learn.org. See: https://github.com/scikit-learn/scikit-learn/issues/21755 */display: inline-block !important;position: relative;}#sk-container-id-1 div.sk-text-repr-fallback {display: none;}</style><div id=\"sk-container-id-1\" class=\"sk-top-container\"><div class=\"sk-text-repr-fallback\"><pre>GaussianNB()</pre><b>In a Jupyter environment, please rerun this cell to show the HTML representation or trust the notebook. <br />On GitHub, the HTML representation is unable to render, please try loading this page with nbviewer.org.</b></div><div class=\"sk-container\" hidden><div class=\"sk-item\"><div class=\"sk-estimator sk-toggleable\"><input class=\"sk-toggleable__control sk-hidden--visually\" id=\"sk-estimator-id-1\" type=\"checkbox\" checked><label for=\"sk-estimator-id-1\" class=\"sk-toggleable__label sk-toggleable__label-arrow\">GaussianNB</label><div class=\"sk-toggleable__content\"><pre>GaussianNB()</pre></div></div></div></div></div>"
      ],
      "text/plain": [
       "GaussianNB()"
      ]
     },
     "execution_count": 29,
     "metadata": {},
     "output_type": "execute_result"
    }
   ],
   "source": [
    "classifier = GaussianNB()\n",
    "classifier.fit(X_train, y_train)"
   ]
  },
  {
   "cell_type": "code",
   "execution_count": 30,
   "metadata": {
    "id": "NNwmZSUcVF1S"
   },
   "outputs": [],
   "source": [
    "from sklearn.metrics import confusion_matrix, accuracy_score\n",
    "y_pred = classifier.predict(X_test)"
   ]
  },
  {
   "cell_type": "code",
   "execution_count": 31,
   "metadata": {
    "colab": {
     "base_uri": "https://localhost:8080/"
    },
    "id": "LEp0rLsDVHqw",
    "outputId": "957acbb6-7265-4086-c9a1-1854add9717c"
   },
   "outputs": [
    {
     "data": {
      "text/plain": [
       "array([[63,  0,  0],\n",
       "       [ 8, 50,  1],\n",
       "       [ 5,  2,  6]], dtype=int64)"
      ]
     },
     "execution_count": 31,
     "metadata": {},
     "output_type": "execute_result"
    }
   ],
   "source": [
    "cm = confusion_matrix(y_test, y_pred)\n",
    "cm"
   ]
  },
  {
   "cell_type": "code",
   "execution_count": 32,
   "metadata": {
    "colab": {
     "base_uri": "https://localhost:8080/"
    },
    "id": "GYdoZiRgVJbF",
    "outputId": "daa9ed3f-dca0-487d-e2cb-8d443a57e8f1"
   },
   "outputs": [
    {
     "data": {
      "text/plain": [
       "0.8814814814814815"
      ]
     },
     "execution_count": 32,
     "metadata": {},
     "output_type": "execute_result"
    }
   ],
   "source": [
    "nb_score = accuracy_score(y_test, y_pred)\n",
    "nb_score"
   ]
  },
  {
   "cell_type": "code",
   "execution_count": null,
   "metadata": {
    "id": "me63m709VQEP"
   },
   "outputs": [],
   "source": []
  }
 ],
 "metadata": {
  "colab": {
   "provenance": []
  },
  "kernelspec": {
   "display_name": "Python 3 (ipykernel)",
   "language": "python",
   "name": "python3"
  },
  "language_info": {
   "codemirror_mode": {
    "name": "ipython",
    "version": 3
   },
   "file_extension": ".py",
   "mimetype": "text/x-python",
   "name": "python",
   "nbconvert_exporter": "python",
   "pygments_lexer": "ipython3",
   "version": "3.11.7"
  }
 },
 "nbformat": 4,
 "nbformat_minor": 4
}
